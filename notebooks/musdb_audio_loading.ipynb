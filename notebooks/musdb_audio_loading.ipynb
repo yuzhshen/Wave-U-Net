{
 "cells": [
  {
   "cell_type": "code",
   "execution_count": 5,
   "metadata": {},
   "outputs": [],
   "source": [
    "import os\n",
    "import random\n",
    "import sys\n",
    "import glob\n",
    "import librosa\n",
    "import soundfile\n",
    "import musdb\n",
    "import numpy as np\n",
    "import tensorflow as tf\n",
    "from lxml import etree\n",
    "from multiprocessing import Process\n",
    "\n",
    "sys.path.append('../')\n",
    "import Utils"
   ]
  },
  {
   "cell_type": "code",
   "execution_count": 18,
   "metadata": {},
   "outputs": [
    {
     "name": "stdout",
     "output_type": "stream",
     "text": [
      "44100\n",
      "Maximum absolute deviation from source additivity constraint: 0.015788201498365628\n",
      "Mean absolute deviation from source additivity constraint:    0.0016906991795110386\n",
      "44100\n",
      "Maximum absolute deviation from source additivity constraint: 1.0003329092154158\n",
      "Mean absolute deviation from source additivity constraint:    0.020354763273284886\n"
     ]
    },
    {
     "data": {
      "text/plain": [
       "[[{'accompaniment': '/Users/zhao/Downloads/MUS-STEMS-SAMPLE/train/Music Delta - Rock.stem_accompaniment.wav',\n",
       "   'bass': '/Users/zhao/Downloads/MUS-STEMS-SAMPLE/train/Music Delta - Rock.stem_bass_down.wav',\n",
       "   'drums': '/Users/zhao/Downloads/MUS-STEMS-SAMPLE/train/Music Delta - Rock.stem_drums_down.wav',\n",
       "   'mix': '/Users/zhao/Downloads/MUS-STEMS-SAMPLE/train/Music Delta - Rock.stem_mix.wav',\n",
       "   'other': '/Users/zhao/Downloads/MUS-STEMS-SAMPLE/train/Music Delta - Rock.stem_other_down.wav',\n",
       "   'vocals': '/Users/zhao/Downloads/MUS-STEMS-SAMPLE/train/Music Delta - Rock.stem_vocals_down.wav'}],\n",
       " [{'accompaniment': '/Users/zhao/Downloads/MUS-STEMS-SAMPLE/test/PR - Oh No.stem_accompaniment.wav',\n",
       "   'bass': '/Users/zhao/Downloads/MUS-STEMS-SAMPLE/test/PR - Oh No.stem_bass_down.wav',\n",
       "   'drums': '/Users/zhao/Downloads/MUS-STEMS-SAMPLE/test/PR - Oh No.stem_drums_down.wav',\n",
       "   'mix': '/Users/zhao/Downloads/MUS-STEMS-SAMPLE/test/PR - Oh No.stem_mix.wav',\n",
       "   'other': '/Users/zhao/Downloads/MUS-STEMS-SAMPLE/test/PR - Oh No.stem_other_down.wav',\n",
       "   'vocals': '/Users/zhao/Downloads/MUS-STEMS-SAMPLE/test/PR - Oh No.stem_vocals_down.wav'}]]"
      ]
     },
     "execution_count": 18,
     "metadata": {},
     "output_type": "execute_result"
    }
   ],
   "source": [
    "main_folder = \"../data/test_dataset\"\n",
    "musdb_path = '/Users/zhao/Downloads/MUS-STEMS-SAMPLE/'\n",
    "\n",
    "mus = musdb.DB(root_dir=musdb_path, is_wav=False)\n",
    "subsets = list()\n",
    "\n",
    "\n",
    "\n",
    "for subset in [\"train\", \"test\"]:\n",
    "    tracks = mus.load_mus_tracks(subset)\n",
    "    samples = list()\n",
    "\n",
    "    # Go through tracks\n",
    "    for track in tracks:\n",
    "        # Skip track if mixture is already written, assuming this track is done already\n",
    "        track_path = track.path[:-4]\n",
    "        mix_path = track_path + \"_mix.wav\"\n",
    "        acc_path = track_path + \"_accompaniment.wav\"\n",
    "        rate = track.rate\n",
    "        print(rate)\n",
    "\n",
    "        # Go through each instrument\n",
    "        paths = dict()\n",
    "        stem_audio = dict()\n",
    "        for stem in [\"bass\", \"drums\", \"other\", \"vocals\"]:\n",
    "            path_orig = track_path + \"_\" + stem + \".wav\"\n",
    "            path = track_path+\"_\"+stem+\"_down.wav\"\n",
    "            audio = track.targets[stem].audio\n",
    "            audio = downsample_mono_audio(audio)\n",
    "            soundfile.write(path, audio, 16000, \"PCM_16\")\n",
    "            stem_audio[stem] = audio\n",
    "            paths[stem] = path\n",
    "\n",
    "        # Add other instruments to form accompaniment\n",
    "        acc_audio = np.clip(sum([stem_audio[key] for key in stem_audio.keys() if key != \"vocals\"]), -1.0, 1.0)\n",
    "        soundfile.write(acc_path, acc_audio, 16000, \"PCM_16\")\n",
    "        paths[\"accompaniment\"] = acc_path\n",
    "\n",
    "        # Create mixture\n",
    "        mix_audio = downsample_mono_audio(track.audio)\n",
    "        soundfile.write(mix_path, mix_audio, 16000, \"PCM_16\")\n",
    "        paths[\"mix\"] = mix_path\n",
    "\n",
    "        diff_signal = np.abs(mix_audio - acc_audio - stem_audio[\"vocals\"])\n",
    "        print(\"Maximum absolute deviation from source additivity constraint: \" + str(np.max(diff_signal)))# Check if acc+vocals=mix\n",
    "        print(\"Mean absolute deviation from source additivity constraint:    \" + str(np.mean(diff_signal)))\n",
    "\n",
    "        samples.append(paths)\n",
    "\n",
    "    subsets.append(samples)\n",
    "\n",
    "subsets"
   ]
  },
  {
   "cell_type": "code",
   "execution_count": null,
   "metadata": {},
   "outputs": [],
   "source": []
  }
 ],
 "metadata": {
  "kernelspec": {
   "display_name": "Python 2",
   "language": "python",
   "name": "python2"
  },
  "language_info": {
   "codemirror_mode": {
    "name": "ipython",
    "version": 2
   },
   "file_extension": ".py",
   "mimetype": "text/x-python",
   "name": "python",
   "nbconvert_exporter": "python",
   "pygments_lexer": "ipython2",
   "version": "2.7.15"
  }
 },
 "nbformat": 4,
 "nbformat_minor": 2
}
